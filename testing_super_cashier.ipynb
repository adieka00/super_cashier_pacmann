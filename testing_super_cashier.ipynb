{
  "nbformat": 4,
  "nbformat_minor": 0,
  "metadata": {
    "colab": {
      "provenance": []
    },
    "kernelspec": {
      "name": "python3",
      "display_name": "Python 3"
    },
    "language_info": {
      "name": "python"
    }
  },
  "cells": [
    {
      "cell_type": "code",
      "source": [
        "from kasir1 import Transaction"
      ],
      "metadata": {
        "id": "gzQLl7x4EzQh"
      },
      "execution_count": 48,
      "outputs": []
    },
    {
      "cell_type": "code",
      "source": [
        "# Membuat objek dari class Transaction dengan ID trnsct123\n",
        "trnsct123 = Transaction()\n",
        "\n",
        "# Menambahkan beberapa item ke transaksi trnsct123 menggunakan method add_item()\n",
        "trnsct123.add_item(\"tempe\", 2, 3000)\n",
        "trnsct123.add_item(\"mobil\", 1, 100000)\n",
        "trnsct123.add_item(\"susu\", 3, 9000)"
      ],
      "metadata": {
        "colab": {
          "base_uri": "https://localhost:8080/"
        },
        "id": "MpfE0FPNON14",
        "outputId": "efe21b22-da9f-435b-b133-2699953abbec"
      },
      "execution_count": 57,
      "outputs": [
        {
          "output_type": "stream",
          "name": "stdout",
          "text": [
            "Item yang Anda beli adalah:\n",
            "| No | Nama Item | Jumlah Item | Harga/Item | Total Harga\n",
            "| 1 | tempe | 2 | 3000.0 | 6000\n",
            "Item yang Anda beli adalah:\n",
            "| No | Nama Item | Jumlah Item | Harga/Item | Total Harga\n",
            "| 1 | tempe | 2 | 3000.0 | 6000\n",
            "| 2 | mobil | 1 | 100000.0 | 100000\n",
            "Item yang Anda beli adalah:\n",
            "| No | Nama Item | Jumlah Item | Harga/Item | Total Harga\n",
            "| 1 | tempe | 2 | 3000.0 | 6000\n",
            "| 2 | mobil | 1 | 100000.0 | 100000\n",
            "| 3 | susu | 3 | 9000.0 | 27000\n"
          ]
        }
      ]
    },
    {
      "cell_type": "code",
      "source": [
        "trnsct123.delete_item('susu')"
      ],
      "metadata": {
        "colab": {
          "base_uri": "https://localhost:8080/"
        },
        "id": "3v8voynsPoA-",
        "outputId": "b7e49ef8-6b68-4c2a-dffc-e4fa59c15c19"
      },
      "execution_count": 58,
      "outputs": [
        {
          "output_type": "stream",
          "name": "stdout",
          "text": [
            "| No | Nama Item | Jumlah Item | Harga/Item | Total Harga\n",
            "| 1 | tempe | 2 | 3000.0 | 6000\n",
            "| 2 | mobil | 1 | 100000.0 | 100000\n"
          ]
        }
      ]
    },
    {
      "cell_type": "code",
      "source": [
        "trnsct123.total_price()"
      ],
      "metadata": {
        "colab": {
          "base_uri": "https://localhost:8080/"
        },
        "id": "2_YVAvddPpo2",
        "outputId": "e6dbdf63-5eb6-4ac7-e4a9-723ce30417cd"
      },
      "execution_count": 59,
      "outputs": [
        {
          "output_type": "stream",
          "name": "stdout",
          "text": [
            "Total belanja: 106000\n",
            "Diskon: 0%\n",
            "Total belanja setelah diskon: 106000\n"
          ]
        }
      ]
    },
    {
      "cell_type": "code",
      "source": [],
      "metadata": {
        "id": "BXDnx1RWPyJB"
      },
      "execution_count": null,
      "outputs": []
    }
  ]
}